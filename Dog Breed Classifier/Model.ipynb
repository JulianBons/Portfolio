{
 "cells": [
  {
   "cell_type": "code",
   "execution_count": 1,
   "metadata": {
    "_cell_guid": "b1076dfc-b9ad-4769-8c92-a6c4dae69d19",
    "_uuid": "8f2839f25d086af736a60e9eeb907d3b93b6e0e5"
   },
   "outputs": [],
   "source": [
    "# This Python 3 environment comes with many helpful analytics libraries installed\n",
    "# It is defined by the kaggle/python Docker image: https://github.com/kaggle/docker-python\n",
    "# For example, here's several helpful packages to load\n",
    "\n",
    "import numpy as np # linear algebra\n",
    "import pandas as pd # data processing, CSV file I/O (e.g. pd.read_csv)\n",
    "\n",
    "# Input data files are available in the read-only \"../input/\" directory\n",
    "# For example, running this (by clicking run or pressing Shift+Enter) will list all files under the input directory\n",
    "\n",
    "import os\n",
    "for dirname, _, filenames in os.walk('/kaggle/input'):\n",
    "    for filename in filenames:\n",
    "        print(os.path.join(dirname, filename))\n",
    "\n",
    "# You can write up to 20GB to the current directory (/kaggle/working/) that gets preserved as output when you create a version using \"Save & Run All\" \n",
    "# You can also write temporary files to /kaggle/temp/, but they won't be saved outside of the current session"
   ]
  },
  {
   "cell_type": "code",
   "execution_count": 6,
   "metadata": {
    "_cell_guid": "79c7e3d0-c299-4dcb-8224-4455121ee9b0",
    "_uuid": "d629ff2d2480ee46fbb7e2d37f6b5fab8052498a"
   },
   "outputs": [],
   "source": [
    "import os\n",
    "import sys\n",
    "import numpy as np\n",
    "import tensorflow as tf\n",
    "from tensorflow import keras\n",
    "import tensorflow_datasets as tfds\n",
    "import matplotlib.pyplot as plt\n",
    "import datetime\n"
   ]
  },
  {
   "cell_type": "code",
   "execution_count": 7,
   "metadata": {},
   "outputs": [
    {
     "name": "stdout",
     "output_type": "stream",
     "text": [
      "\u001b[1mDownloading and preparing dataset stanford_dogs/0.2.0 (download: 778.12 MiB, generated: Unknown size, total: 778.12 MiB) to /root/tensorflow_datasets/stanford_dogs/0.2.0...\u001b[0m\n"
     ]
    },
    {
     "data": {
      "application/vnd.jupyter.widget-view+json": {
       "model_id": "46b7b94dfc804b52ac242e09f06fe01c",
       "version_major": 2,
       "version_minor": 0
      },
      "text/plain": [
       "HBox(children=(FloatProgress(value=1.0, bar_style='info', description='Dl Completed...', max=1.0, style=Progre…"
      ]
     },
     "metadata": {},
     "output_type": "display_data"
    },
    {
     "data": {
      "application/vnd.jupyter.widget-view+json": {
       "model_id": "d18b90026b6949e5bd3df29a3757aa38",
       "version_major": 2,
       "version_minor": 0
      },
      "text/plain": [
       "HBox(children=(FloatProgress(value=1.0, bar_style='info', description='Dl Size...', max=1.0, style=ProgressSty…"
      ]
     },
     "metadata": {},
     "output_type": "display_data"
    },
    {
     "name": "stdout",
     "output_type": "stream",
     "text": [
      "\n",
      "\n",
      "\n",
      "\n"
     ]
    },
    {
     "data": {
      "application/vnd.jupyter.widget-view+json": {
       "model_id": "a2158ebe3381454aba9a12441e85e850",
       "version_major": 2,
       "version_minor": 0
      },
      "text/plain": [
       "HBox(children=(FloatProgress(value=1.0, bar_style='info', description='Dl Completed...', max=1.0, style=Progre…"
      ]
     },
     "metadata": {},
     "output_type": "display_data"
    },
    {
     "data": {
      "application/vnd.jupyter.widget-view+json": {
       "model_id": "14360b035f4c43728b6915766cfede1f",
       "version_major": 2,
       "version_minor": 0
      },
      "text/plain": [
       "HBox(children=(FloatProgress(value=1.0, bar_style='info', description='Dl Size...', max=1.0, style=ProgressSty…"
      ]
     },
     "metadata": {},
     "output_type": "display_data"
    },
    {
     "data": {
      "application/vnd.jupyter.widget-view+json": {
       "model_id": "b2a66dacbf424121a5e3ef9b1800fafe",
       "version_major": 2,
       "version_minor": 0
      },
      "text/plain": [
       "HBox(children=(FloatProgress(value=1.0, bar_style='info', description='Extraction completed...', max=1.0, styl…"
      ]
     },
     "metadata": {},
     "output_type": "display_data"
    },
    {
     "name": "stdout",
     "output_type": "stream",
     "text": [
      "\n",
      "\n",
      "\n",
      "\n",
      "\n",
      "\n"
     ]
    },
    {
     "data": {
      "application/vnd.jupyter.widget-view+json": {
       "model_id": "",
       "version_major": 2,
       "version_minor": 0
      },
      "text/plain": [
       "HBox(children=(FloatProgress(value=1.0, bar_style='info', max=1.0), HTML(value='')))"
      ]
     },
     "metadata": {},
     "output_type": "display_data"
    },
    {
     "name": "stdout",
     "output_type": "stream",
     "text": [
      "Shuffling and writing examples to /root/tensorflow_datasets/stanford_dogs/0.2.0.incomplete9E9NH6/stanford_dogs-train.tfrecord\n"
     ]
    },
    {
     "data": {
      "application/vnd.jupyter.widget-view+json": {
       "model_id": "1d628d6f589a48a99cff1127b38e953d",
       "version_major": 2,
       "version_minor": 0
      },
      "text/plain": [
       "HBox(children=(FloatProgress(value=0.0, max=12000.0), HTML(value='')))"
      ]
     },
     "metadata": {},
     "output_type": "display_data"
    },
    {
     "data": {
      "application/vnd.jupyter.widget-view+json": {
       "model_id": "",
       "version_major": 2,
       "version_minor": 0
      },
      "text/plain": [
       "HBox(children=(FloatProgress(value=1.0, bar_style='info', max=1.0), HTML(value='')))"
      ]
     },
     "metadata": {},
     "output_type": "display_data"
    },
    {
     "name": "stdout",
     "output_type": "stream",
     "text": [
      "Shuffling and writing examples to /root/tensorflow_datasets/stanford_dogs/0.2.0.incomplete9E9NH6/stanford_dogs-test.tfrecord\n"
     ]
    },
    {
     "data": {
      "application/vnd.jupyter.widget-view+json": {
       "model_id": "c74228a63cf9429ba7d7d5ac410bc544",
       "version_major": 2,
       "version_minor": 0
      },
      "text/plain": [
       "HBox(children=(FloatProgress(value=0.0, max=8580.0), HTML(value='')))"
      ]
     },
     "metadata": {},
     "output_type": "display_data"
    },
    {
     "name": "stdout",
     "output_type": "stream",
     "text": [
      "\u001b[1mDataset stanford_dogs downloaded and prepared to /root/tensorflow_datasets/stanford_dogs/0.2.0. Subsequent calls will reuse this data.\u001b[0m\n"
     ]
    }
   ],
   "source": [
    "#Import Data\n",
    "(ds_train, ds_test), metadata = tfds.load(\n",
    "    'stanford_dogs',\n",
    "    split=['train', 'test'],\n",
    "    shuffle_files=True,\n",
    "    with_info=True,\n",
    "    as_supervised=True,\n",
    ")"
   ]
  },
  {
   "cell_type": "code",
   "execution_count": 8,
   "metadata": {},
   "outputs": [],
   "source": [
    "#The test set is pretty large, we merge some of it into the train set\n",
    "ds_test = ds_test.shuffle(int(tf.data.experimental.cardinality(ds_test)), reshuffle_each_iteration=False)\n",
    "ds_train = ds_train.concatenate(ds_test.take(5000))\n",
    "ds_test = ds_test.skip(5000)"
   ]
  },
  {
   "cell_type": "code",
   "execution_count": 9,
   "metadata": {},
   "outputs": [],
   "source": [
    "#Set Parameters\n",
    "NUM_CLASSES = metadata.features['label'].num_classes\n",
    "IMG_SIZE = 224\n",
    "BATCH_SIZE = 64\n",
    "AUTOTUNE = tf.data.experimental.AUTOTUNE\n",
    "\n",
    "NUM_TRAINING = int(tf.data.experimental.cardinality(ds_train))\n",
    "NUM_TEST = int(tf.data.experimental.cardinality(ds_test))"
   ]
  },
  {
   "cell_type": "code",
   "execution_count": 11,
   "metadata": {},
   "outputs": [],
   "source": [
    "#Preprocess the data\n",
    "train = (ds_train\n",
    "         .map(util.preprocess, num_parallel_calls=AUTOTUNE)\n",
    "         .map(util.augment, num_parallel_calls=AUTOTUNE)\n",
    "         .map(\n",
    "             lambda image, label: (tf.keras.applications.resnet50.preprocess_input(image), label),\n",
    "             num_parallel_calls=AUTOTUNE)\n",
    "         .batch(64, drop_remainder=True)\n",
    "         .prefetch(AUTOTUNE)\n",
    "         .repeat()\n",
    "        )\n",
    " \n",
    "val = (ds_test\n",
    "       .map(util.preprocess, num_parallel_calls=AUTOTUNE)\n",
    "       .map(\n",
    "             lambda image, label: (tf.keras.applications.resnet50.preprocess_input(image), label),\n",
    "             num_parallel_calls=AUTOTUNE)\n",
    "       .cache()\n",
    "       .batch(64, drop_remainder=True)\n",
    "      )"
   ]
  },
  {
   "cell_type": "code",
   "execution_count": 12,
   "metadata": {},
   "outputs": [
    {
     "name": "stdout",
     "output_type": "stream",
     "text": [
      "Downloading data from https://storage.googleapis.com/tensorflow/keras-applications/resnet/resnet50_weights_tf_dim_ordering_tf_kernels_notop.h5\n",
      "94773248/94765736 [==============================] - 1s 0us/step\n",
      "Epoch 1/5\n",
      "265/265 [==============================] - 93s 351ms/step - loss: 3.7867 - accuracy: 0.5226 - val_loss: 1.7368 - val_accuracy: 0.7571\n",
      "Epoch 2/5\n",
      "265/265 [==============================] - 90s 339ms/step - loss: 2.6325 - accuracy: 0.6874 - val_loss: 1.3057 - val_accuracy: 0.8088\n",
      "Epoch 3/5\n",
      "265/265 [==============================] - 90s 341ms/step - loss: 2.2208 - accuracy: 0.7312 - val_loss: 1.1695 - val_accuracy: 0.8230\n",
      "Epoch 4/5\n",
      "265/265 [==============================] - 90s 339ms/step - loss: 1.8853 - accuracy: 0.7595 - val_loss: 0.8146 - val_accuracy: 0.8668\n",
      "Epoch 5/5\n",
      "265/265 [==============================] - 89s 337ms/step - loss: 1.4995 - accuracy: 0.7968 - val_loss: 0.7571 - val_accuracy: 0.8753\n"
     ]
    },
    {
     "data": {
      "text/plain": [
       "<tensorflow.python.keras.callbacks.History at 0x7f2b63844c50>"
      ]
     },
     "execution_count": 12,
     "metadata": {},
     "output_type": "execute_result"
    }
   ],
   "source": [
    "#Create first model for finetuning\n",
    "base_model = tf.keras.applications.ResNet50(weights='imagenet', include_top=False)\n",
    "\n",
    "for layer in base_model.layers:\n",
    "    layer.trainable = False\n",
    "\n",
    "\n",
    "model = keras.Sequential([\n",
    "        keras.Input(shape=(IMG_SIZE, IMG_SIZE, 3)),\n",
    "        base_model,\n",
    "        keras.layers.GlobalAveragePooling2D(),\n",
    "        keras.layers.Dropout(0.5),\n",
    "        keras.layers.Flatten(),\n",
    "        keras.layers.Dense(NUM_CLASSES, activation='softmax')\n",
    "    ])\n",
    "\n",
    "\n",
    "callbacks = [\n",
    "    keras.callbacks.EarlyStopping(monitor='val_loss', patience=3),\n",
    "]\n",
    "\n",
    "\n",
    "lr_schedule = keras.optimizers.schedules.ExponentialDecay(\n",
    "    0.01, decay_steps=50, decay_rate=0.96, staircase=True\n",
    ")\n",
    "\n",
    "model.compile(\n",
    "    optimizer=tf.keras.optimizers.Adam(learning_rate=lr_schedule),\n",
    "    loss='categorical_crossentropy',\n",
    "    metrics=['accuracy'],\n",
    ")\n",
    "\n",
    "model.fit(train, \n",
    "          epochs=5, \n",
    "          callbacks=callbacks, \n",
    "          validation_data=val, \n",
    "          steps_per_epoch=NUM_TRAINING//BATCH_SIZE,\n",
    "          validation_steps=NUM_TEST//BATCH_SIZE\n",
    "         )\n",
    "\n",
    "model.save('model_1')"
   ]
  },
  {
   "cell_type": "code",
   "execution_count": 14,
   "metadata": {},
   "outputs": [
    {
     "name": "stdout",
     "output_type": "stream",
     "text": [
      "Epoch 1/5\n",
      "265/265 [==============================] - 93s 351ms/step - loss: 1.3801 - accuracy: 0.8047 - val_loss: 0.7775 - val_accuracy: 0.8676\n",
      "Epoch 2/5\n",
      "265/265 [==============================] - 91s 342ms/step - loss: 1.3598 - accuracy: 0.8078 - val_loss: 0.7120 - val_accuracy: 0.8710\n",
      "Epoch 3/5\n",
      "265/265 [==============================] - 89s 338ms/step - loss: 1.3282 - accuracy: 0.8120 - val_loss: 0.6666 - val_accuracy: 0.8858\n",
      "Epoch 4/5\n",
      "265/265 [==============================] - 92s 346ms/step - loss: 1.3591 - accuracy: 0.8088 - val_loss: 0.6823 - val_accuracy: 0.8813\n",
      "Epoch 5/5\n",
      "265/265 [==============================] - 91s 342ms/step - loss: 1.3721 - accuracy: 0.8066 - val_loss: 0.7161 - val_accuracy: 0.8813\n"
     ]
    }
   ],
   "source": [
    "base_model = keras.models.load_model('model_1', compile=False)\n",
    "\n",
    "for layer in base_model.layers:\n",
    "    layer.trainable = True\n",
    "    \n",
    "for layer in base_model.layers[:10]:\n",
    "    layer.trainable = False\n",
    "    \n",
    "lr_schedule = keras.optimizers.schedules.ExponentialDecay(\n",
    "    0.001, decay_steps=50, decay_rate=0.96, staircase=True\n",
    ")\n",
    "    \n",
    "    \n",
    "callbacks = [\n",
    "    keras.callbacks.EarlyStopping(monitor='val_loss', patience=3),\n",
    "]\n",
    "\n",
    "base_model.compile(\n",
    "    optimizer=tf.keras.optimizers.Adam(learning_rate=lr_schedule),\n",
    "    loss='categorical_crossentropy',\n",
    "    metrics=['accuracy'],\n",
    ")\n",
    "\n",
    "base_model.fit(train, \n",
    "          epochs=5, \n",
    "          callbacks=callbacks, \n",
    "          validation_data=val, \n",
    "          steps_per_epoch=NUM_TRAINING//BATCH_SIZE,\n",
    "          validation_steps=NUM_TEST//BATCH_SIZE\n",
    "         )\n",
    "\n",
    "base_model.save('model_2')"
   ]
  },
  {
   "cell_type": "code",
   "execution_count": null,
   "metadata": {},
   "outputs": [],
   "source": []
  }
 ],
 "metadata": {
  "kernelspec": {
   "display_name": "Python 3",
   "language": "python",
   "name": "python3"
  },
  "language_info": {
   "codemirror_mode": {
    "name": "ipython",
    "version": 3
   },
   "file_extension": ".py",
   "mimetype": "text/x-python",
   "name": "python",
   "nbconvert_exporter": "python",
   "pygments_lexer": "ipython3",
   "version": "3.7.4"
  }
 },
 "nbformat": 4,
 "nbformat_minor": 4
}
