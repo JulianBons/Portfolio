{
 "cells": [
  {
   "cell_type": "markdown",
   "metadata": {},
   "source": [
    "# Welcome to my Notebook\n",
    "\n",
    "##### In this notebook, I'm going to analyse what properties a Stimuli must possess to elicit a humorous response.   \n",
    "\n",
    "  \n",
    "  \n",
    "#####  This analysis forms part of my bachelor's thesis project, which I'm currently completing under guidance of Dr. Paulun and Prof. Fleming, Ph.D. of the General psychology lab of the Justus-Liebig-Universität Giessen.  \n",
    "##### [Click here to learn more about the lab.](https://www.uni-giessen.de/fbz/fb06/psychologie/abt/allgemeine-psychologie)\n",
    "\n",
    "##### The data was experimentally collected for my project.  \n",
    "##### In the experiment, the participants saw scenes and had to rate them on various scales. Each scene focused on a blue object, which interacted in different ways with its surrounding. \n",
    "\n",
    "##### The participants had to rate on a scale of 0 to 1:\n",
    "\n",
    "##### - How `funny` the Stimulus is\n",
    "##### - How `happy` the object is\n",
    "##### - How `surprising` the scene appears\n",
    "##### - How `abrupt` the movement of the object is\n",
    "##### - How `typical` the object behaves\n",
    "##### - How `predictable` the scene is in total\n",
    "##### - How `wobbly` the object appears\n",
    "##### - How `droopy` the object appears\n",
    "\n",
    "##### In the following, I want to analyse, which of these scales turn out useful in predicting if a scene is gonna be accessed as funny.\n",
    "\n",
    "\n",
    "\n",
    "##### Note: This analysis is just an excerpt of my work. "
   ]
  },
  {
   "cell_type": "markdown",
   "metadata": {},
   "source": [
    "##### First import relevant libaries"
   ]
  },
  {
   "cell_type": "code",
   "execution_count": 2,
   "metadata": {},
   "outputs": [],
   "source": [
    "import os\n",
    "import pandas as pd\n",
    "import numpy as np\n",
    "import matplotlib.pyplot as plt\n",
    "import seaborn as sns; sns.set(style = 'white', color_codes = False)\n",
    "import scipy.stats as stats \n",
    "from sklearn.linear_model import LogisticRegression\n",
    "from sklearn.model_selection import train_test_split\n",
    "from sklearn.decomposition import PCA\n",
    "from sklearn.preprocessing import MinMaxScaler\n",
    "from sklearn.model_selection import cross_val_score\n",
    "import statsmodels.api as sm\n",
    "\n",
    "%matplotlib widget"
   ]
  },
  {
   "cell_type": "markdown",
   "metadata": {},
   "source": [
    "##### The experiment yielded one datafile for each participants. We first load them and then merge them into one DataFrame."
   ]
  },
  {
   "cell_type": "code",
   "execution_count": 3,
   "metadata": {},
   "outputs": [],
   "source": [
    "#Access the relevant dictionary\n",
    "os.chdir('/Users/julianbons/Desktop/Projekt/Data Raw')\n",
    "\n",
    "#Get the relevant Data\n",
    "files = os.listdir()\n",
    "\n",
    "#vpList = []\n",
    "df_data = pd.DataFrame()\n",
    "\n",
    "#Append the individual Data to one dataframe'\n",
    "for i, file in enumerate(files):\n",
    "    vpCode = file[:-16]\n",
    "    globals()['df_' + vpCode] = pd.read_csv(file)\n",
    "    globals()['df_' + vpCode].insert(1, 'VP', vpCode)\n",
    "    df_data = df_data.append(globals()['df_' + vpCode], sort=True)\n",
    "\n",
    "#Sort the columns\n",
    "df_data = df_data[df_INDR942.columns]\n",
    "\n",
    "#Lastly get a list of the ratings for further analysis\n",
    "index = list(df_data.columns[12:])\n",
    "\n",
    "#Save it\n",
    "#df_data.to_csv('/Users/julianbons/Desktop/Projekt/df_data.csv')"
   ]
  },
  {
   "cell_type": "markdown",
   "metadata": {},
   "source": [
    "##### Let's take a look at the data"
   ]
  },
  {
   "cell_type": "code",
   "execution_count": 4,
   "metadata": {},
   "outputs": [
    {
     "data": {
      "text/html": [
       "<div>\n",
       "<style scoped>\n",
       "    .dataframe tbody tr th:only-of-type {\n",
       "        vertical-align: middle;\n",
       "    }\n",
       "\n",
       "    .dataframe tbody tr th {\n",
       "        vertical-align: top;\n",
       "    }\n",
       "\n",
       "    .dataframe thead th {\n",
       "        text-align: right;\n",
       "    }\n",
       "</style>\n",
       "<table border=\"1\" class=\"dataframe\">\n",
       "  <thead>\n",
       "    <tr style=\"text-align: right;\">\n",
       "      <th></th>\n",
       "      <th>group</th>\n",
       "      <th>VP</th>\n",
       "      <th>block</th>\n",
       "      <th>trialNumber</th>\n",
       "      <th>trialType</th>\n",
       "      <th>Var5</th>\n",
       "      <th>scene</th>\n",
       "      <th>Var7</th>\n",
       "      <th>Var8</th>\n",
       "      <th>stiffness</th>\n",
       "      <th>elasticity</th>\n",
       "      <th>variation</th>\n",
       "      <th>funny</th>\n",
       "      <th>happy</th>\n",
       "      <th>surprising</th>\n",
       "      <th>abrupt</th>\n",
       "      <th>typical</th>\n",
       "      <th>predictable</th>\n",
       "      <th>wobbly</th>\n",
       "      <th>droopy</th>\n",
       "    </tr>\n",
       "  </thead>\n",
       "  <tbody>\n",
       "    <tr>\n",
       "      <th>0</th>\n",
       "      <td>3.0</td>\n",
       "      <td>LARK3932</td>\n",
       "      <td>1.0</td>\n",
       "      <td>1.0</td>\n",
       "      <td>53.0</td>\n",
       "      <td>object17_high_static</td>\n",
       "      <td>NaN</td>\n",
       "      <td>object17_high</td>\n",
       "      <td>0.0</td>\n",
       "      <td>NaN</td>\n",
       "      <td>NaN</td>\n",
       "      <td>NaN</td>\n",
       "      <td>0.5175</td>\n",
       "      <td>0.5000</td>\n",
       "      <td>NaN</td>\n",
       "      <td>NaN</td>\n",
       "      <td>NaN</td>\n",
       "      <td>NaN</td>\n",
       "      <td>NaN</td>\n",
       "      <td>NaN</td>\n",
       "    </tr>\n",
       "    <tr>\n",
       "      <th>1</th>\n",
       "      <td>3.0</td>\n",
       "      <td>LARK3932</td>\n",
       "      <td>1.0</td>\n",
       "      <td>2.0</td>\n",
       "      <td>36.0</td>\n",
       "      <td>Teapot_static</td>\n",
       "      <td>NaN</td>\n",
       "      <td>Teapot</td>\n",
       "      <td>1.0</td>\n",
       "      <td>NaN</td>\n",
       "      <td>NaN</td>\n",
       "      <td>NaN</td>\n",
       "      <td>0.5000</td>\n",
       "      <td>0.3700</td>\n",
       "      <td>NaN</td>\n",
       "      <td>NaN</td>\n",
       "      <td>NaN</td>\n",
       "      <td>NaN</td>\n",
       "      <td>NaN</td>\n",
       "      <td>NaN</td>\n",
       "    </tr>\n",
       "    <tr>\n",
       "      <th>2</th>\n",
       "      <td>3.0</td>\n",
       "      <td>LARK3932</td>\n",
       "      <td>1.0</td>\n",
       "      <td>3.0</td>\n",
       "      <td>49.0</td>\n",
       "      <td>object12_high_static</td>\n",
       "      <td>NaN</td>\n",
       "      <td>object12_high</td>\n",
       "      <td>0.0</td>\n",
       "      <td>NaN</td>\n",
       "      <td>NaN</td>\n",
       "      <td>NaN</td>\n",
       "      <td>0.5000</td>\n",
       "      <td>0.5000</td>\n",
       "      <td>NaN</td>\n",
       "      <td>NaN</td>\n",
       "      <td>NaN</td>\n",
       "      <td>NaN</td>\n",
       "      <td>NaN</td>\n",
       "      <td>NaN</td>\n",
       "    </tr>\n",
       "    <tr>\n",
       "      <th>3</th>\n",
       "      <td>3.0</td>\n",
       "      <td>LARK3932</td>\n",
       "      <td>1.0</td>\n",
       "      <td>4.0</td>\n",
       "      <td>66.0</td>\n",
       "      <td>object34_high_static</td>\n",
       "      <td>NaN</td>\n",
       "      <td>object34_high</td>\n",
       "      <td>0.0</td>\n",
       "      <td>NaN</td>\n",
       "      <td>NaN</td>\n",
       "      <td>NaN</td>\n",
       "      <td>0.5500</td>\n",
       "      <td>0.5000</td>\n",
       "      <td>NaN</td>\n",
       "      <td>NaN</td>\n",
       "      <td>NaN</td>\n",
       "      <td>NaN</td>\n",
       "      <td>NaN</td>\n",
       "      <td>NaN</td>\n",
       "    </tr>\n",
       "    <tr>\n",
       "      <th>4</th>\n",
       "      <td>3.0</td>\n",
       "      <td>LARK3932</td>\n",
       "      <td>1.0</td>\n",
       "      <td>5.0</td>\n",
       "      <td>24.0</td>\n",
       "      <td>Horse_static</td>\n",
       "      <td>NaN</td>\n",
       "      <td>Horse</td>\n",
       "      <td>1.0</td>\n",
       "      <td>NaN</td>\n",
       "      <td>NaN</td>\n",
       "      <td>NaN</td>\n",
       "      <td>0.3650</td>\n",
       "      <td>0.3525</td>\n",
       "      <td>NaN</td>\n",
       "      <td>NaN</td>\n",
       "      <td>NaN</td>\n",
       "      <td>NaN</td>\n",
       "      <td>NaN</td>\n",
       "      <td>NaN</td>\n",
       "    </tr>\n",
       "  </tbody>\n",
       "</table>\n",
       "</div>"
      ],
      "text/plain": [
       "   group        VP  block  trialNumber  trialType                  Var5 scene  \\\n",
       "0    3.0  LARK3932    1.0          1.0       53.0  object17_high_static   NaN   \n",
       "1    3.0  LARK3932    1.0          2.0       36.0         Teapot_static   NaN   \n",
       "2    3.0  LARK3932    1.0          3.0       49.0  object12_high_static   NaN   \n",
       "3    3.0  LARK3932    1.0          4.0       66.0  object34_high_static   NaN   \n",
       "4    3.0  LARK3932    1.0          5.0       24.0          Horse_static   NaN   \n",
       "\n",
       "            Var7  Var8  stiffness  elasticity  variation   funny   happy  \\\n",
       "0  object17_high   0.0        NaN         NaN        NaN  0.5175  0.5000   \n",
       "1         Teapot   1.0        NaN         NaN        NaN  0.5000  0.3700   \n",
       "2  object12_high   0.0        NaN         NaN        NaN  0.5000  0.5000   \n",
       "3  object34_high   0.0        NaN         NaN        NaN  0.5500  0.5000   \n",
       "4          Horse   1.0        NaN         NaN        NaN  0.3650  0.3525   \n",
       "\n",
       "   surprising  abrupt  typical  predictable  wobbly  droopy  \n",
       "0         NaN     NaN      NaN          NaN     NaN     NaN  \n",
       "1         NaN     NaN      NaN          NaN     NaN     NaN  \n",
       "2         NaN     NaN      NaN          NaN     NaN     NaN  \n",
       "3         NaN     NaN      NaN          NaN     NaN     NaN  \n",
       "4         NaN     NaN      NaN          NaN     NaN     NaN  "
      ]
     },
     "execution_count": 4,
     "metadata": {},
     "output_type": "execute_result"
    }
   ],
   "source": [
    "df_data.head()"
   ]
  },
  {
   "cell_type": "markdown",
   "metadata": {},
   "source": [
    "##### We can see, that there are a lot of missing values. This is due to the experimential design. Before showing the Stimuli, we presented pictures of the objects, which participants rated just on how funny and happy they seem. \n",
    "\n",
    "##### We will only look at the scenes in this Notebook, so we drop them."
   ]
  },
  {
   "cell_type": "code",
   "execution_count": 5,
   "metadata": {},
   "outputs": [
    {
     "name": "stdout",
     "output_type": "stream",
     "text": [
      "<class 'pandas.core.frame.DataFrame'>\n",
      "Int64Index: 1280 entries, 27 to 57\n",
      "Data columns (total 19 columns):\n",
      "group          1280 non-null float64\n",
      "VP             1280 non-null object\n",
      "trialNumber    1280 non-null float64\n",
      "trialType      1280 non-null float64\n",
      "Var5           1280 non-null object\n",
      "scene          1280 non-null object\n",
      "Var7           1280 non-null object\n",
      "Var8           1280 non-null float64\n",
      "stiffness      1280 non-null float64\n",
      "elasticity     1280 non-null float64\n",
      "variation      1280 non-null float64\n",
      "funny          1280 non-null float64\n",
      "happy          1280 non-null float64\n",
      "surprising     1280 non-null float64\n",
      "abrupt         1280 non-null float64\n",
      "typical        1280 non-null float64\n",
      "predictable    1280 non-null float64\n",
      "wobbly         1280 non-null float64\n",
      "droopy         1280 non-null float64\n",
      "dtypes: float64(15), object(4)\n",
      "memory usage: 200.0+ KB\n"
     ]
    }
   ],
   "source": [
    "df_data = df_data[df_data['block'] == 2].drop('block', axis=1)\n",
    "df_data.info()"
   ]
  },
  {
   "cell_type": "markdown",
   "metadata": {},
   "source": [
    "##### We end up with 40 participants contributing 1280 data points."
   ]
  },
  {
   "cell_type": "markdown",
   "metadata": {},
   "source": [
    "##### Before we dive into the analysis, let's first look at our outcome variable. "
   ]
  },
  {
   "cell_type": "code",
   "execution_count": 6,
   "metadata": {},
   "outputs": [
    {
     "data": {
      "image/png": "[encoded data removed]",
      "text/plain": [
       "<Figure size 648x432 with 1 Axes>"
      ]
     },
     "metadata": {
      "needs_background": "light"
     },
     "output_type": "display_data"
    },
    {
     "name": "stdout",
     "output_type": "stream",
     "text": [
      "Descriptive Statistics for the funniness ratings:\n"
     ]
    },
    {
     "data": {
      "text/plain": [
       "count    1280.000000\n",
       "mean        0.469879\n",
       "std         0.302719\n",
       "min         0.000000\n",
       "25%         0.185000\n",
       "50%         0.500000\n",
       "75%         0.717500\n",
       "max         1.000000\n",
       "Name: funny, dtype: float64"
      ]
     },
     "execution_count": 6,
     "metadata": {},
     "output_type": "execute_result"
    }
   ],
   "source": [
    "# Align the bins\n",
    "bins = np.arange(-0.05, 1.06, 0.1)\n",
    "\n",
    "#Plot the figure\n",
    "fig, ax = plt.subplots(figsize=(9,6))\n",
    "plt.hist(df_data['funny'], bins=bins, color='slategray', alpha=0.85, width=0.09)\n",
    "\n",
    "#Improve the appearance\n",
    "plt.rcParams['font.family'] = 'sans-serif'\n",
    "plt.rcParams['font.sans-serif'] = 'Helvetica'\n",
    "plt.rcParams['axes.edgecolor'] = '#333F4B'\n",
    "plt.rcParams['axes.linewidth'] = 0.8\n",
    "plt.rcParams['xtick.color'] = '#333F4B'\n",
    "plt.rcParams['ytick.color'] = '#333F4B'\n",
    "ax.set_xlabel('Funniness Rating', fontsize=15, fontweight='black', color='#333F4B')\n",
    "ax.set_ylabel('Frequency', fontsize=15, fontweight='black', color='#333F4B', labelpad=8)\n",
    "ax.spines['top'].set_color('none')\n",
    "ax.spines['right'].set_color('none')\n",
    "ax.spines['left'].set_color('none')\n",
    "ax.spines['bottom'].set_color('none')\n",
    "ax.set_ylim(0, 230)\n",
    "ax.yaxis.grid(linestyle='--', lw=0.5, color='black', alpha=0.2)\n",
    "ax.spines['left'].set_position(('axes', 0.02))\n",
    "\n",
    "#Save if neccessary and plot\n",
    "plt.tight_layout()\n",
    "#plt.savefig('Figure 1.svg', dpi=1200, format='svg')\n",
    "plt.show()\n",
    "\n",
    "print('Descriptive Statistics for the funniness ratings:')\n",
    "df_data.funny.describe()"
   ]
  },
  {
   "cell_type": "markdown",
   "metadata": {},
   "source": [
    "###### This histogram displays the frequency of the raw ratings.\n",
    "##### We can see, that participants used the whole scale to rate the scenes. "
   ]
  },
  {
   "cell_type": "markdown",
   "metadata": {},
   "source": [
    "##### We are, however, not interested in the behavior of the individual participants. Instead we want to predict, if a scene is more likely to be perceived as funny than not. Therefore, we average the ratings for each scene and plot the new ratings. For a better sense of the consensus among participants, we also visualize the standard deviation as a shaded error surronding the mean. "
   ]
  },
  {
   "cell_type": "code",
   "execution_count": 7,
   "metadata": {},
   "outputs": [
    {
     "data": {
      "image/png": "[encoded data removed]",
      "text/plain": [
       "<Figure size 648x432 with 1 Axes>"
      ]
     },
     "metadata": {
      "needs_background": "light"
     },
     "output_type": "display_data"
    },
    {
     "name": "stdout",
     "output_type": "stream",
     "text": [
      "Descriptive Statistic for the average funniness rating of the scenes\n"
     ]
    },
    {
     "data": {
      "text/plain": [
       "count    128.000000\n",
       "mean       0.469879\n",
       "std        0.139802\n",
       "min        0.088250\n",
       "25%        0.373437\n",
       "50%        0.480250\n",
       "75%        0.571375\n",
       "max        0.793250\n",
       "Name: funnymean, dtype: float64"
      ]
     },
     "execution_count": 7,
     "metadata": {},
     "output_type": "execute_result"
    }
   ],
   "source": [
    "#Drop unncessary columns and aggregate the ratings for each Stimuli\n",
    "df_Stimuli = df_data.drop(df_data.columns[[0, 2, 3, 6]], axis=1)\n",
    "df_Stimuli = df_Stimuli.groupby(['Var5'], as_index=True).agg(['mean', 'std'])\n",
    "df_Stimuli.columns = (s for s in list(map(''.join, df_Stimuli.columns.values)))\n",
    "\n",
    "#Sort Stimuli by their mean funniness\n",
    "for i in index:\n",
    "    globals()['df_Stimuli_' + str(i)] = df_Stimuli.sort_values(by=[str(i) + 'mean'], ascending=False)\n",
    "\n",
    "\n",
    "#Prepare the plot\n",
    "x_pos = np.arange(len(df_Stimuli_funny.columns))\n",
    "CTEs = df_Stimuli_funny['funnymean']\n",
    "error = df_Stimuli_funny['funnystd']\n",
    "top = (CTEs + error)\n",
    "bottom = (CTEs - error)\n",
    "\n",
    "#Plot the data\n",
    "fig, ax = plt.subplots(figsize=(9,6))\n",
    "ax.fill_between(range(len(df_Stimuli_funny)), \n",
    "                       bottom, top, \n",
    "                       facecolor='black', \n",
    "                       alpha=0.4)\n",
    "ax.plot(range(len(df_Stimuli_funny)), CTEs, color='white', linewidth=3)\n",
    "\n",
    "#Improve the design\n",
    "ax.spines['top'].set_visible(False)    \n",
    "ax.spines['bottom'].set_visible(False)    \n",
    "ax.spines['right'].set_visible(False)    \n",
    "ax.spines['left'].set_visible(False)\n",
    "ax.yaxis.grid(linestyle='--', lw=0.5, color='black', alpha=0.3)\n",
    "ax.yaxis.set_ticks_position('none') \n",
    "ax.set_ylim([0,None])\n",
    "ax.set_xlim([-0.1, len(df_Stimuli_funny + 0.1)])\n",
    "ax.set_xlabel('Stimuli', fontsize=15, fontweight='black', color='#333F4B', labelpad=10)\n",
    "ax.set_ylabel('Mean Funniness Rating',  fontsize=15, fontweight='black', color='#333F4B', labelpad=8)\n",
    "ax.xaxis.set_ticks_position('none') \n",
    "plt.setp(ax.get_xticklabels(), visible=False)\n",
    "\n",
    "#Save and show the plot\n",
    "#plt.savefig('Stimuli_mean.svg', format='svg', dpi=1200)\n",
    "plt.show()\n",
    "\n",
    "print('Descriptive Statistic for the average funniness rating of the scenes')\n",
    "df_Stimuli.funnymean.describe()"
   ]
  },
  {
   "cell_type": "markdown",
   "metadata": {},
   "source": [
    "##### We can see, that our material includes as many *funny* scenes, as scenes that are not funny. Also we can see, that consensus is low among participants, even at the end of the continuums.   \n",
    "##### This should be kept in mind, when we further procced with the analysis. "
   ]
  },
  {
   "cell_type": "markdown",
   "metadata": {},
   "source": [
    "##### Next, we identify, which ratings to include in our model. We only look at the ratings here"
   ]
  },
  {
   "cell_type": "code",
   "execution_count": 8,
   "metadata": {},
   "outputs": [
    {
     "data": {
      "text/plain": [
       "funnymean          1.000000\n",
       "happymean          0.582725\n",
       "surprisingmean     0.490402\n",
       "abruptmean         0.114467\n",
       "typicalmean       -0.427264\n",
       "predictablemean   -0.480790\n",
       "wobblymean         0.480531\n",
       "droopymean         0.041925\n",
       "Name: funnymean, dtype: float64"
      ]
     },
     "execution_count": 8,
     "metadata": {},
     "output_type": "execute_result"
    }
   ],
   "source": [
    "#Just look at the mean ratings. Drop the SD.\n",
    "df_Stimuli.iloc[:, 8: :2].corr()['funnymean']"
   ]
  },
  {
   "cell_type": "markdown",
   "metadata": {},
   "source": [
    "##### We can see, that \n",
    "##### - `happy` \n",
    "##### - `wobbly`\n",
    "##### - `surprising`\n",
    "##### - `typical`\n",
    "##### - `predictable`  \n",
    "\n",
    "##### all correlate moderatly with funniness.  \n",
    "\n",
    "##### Note: All of the correlations are significant"
   ]
  },
  {
   "cell_type": "code",
   "execution_count": 9,
   "metadata": {},
   "outputs": [
    {
     "name": "stdout",
     "output_type": "stream",
     "text": [
      "Correlations:\n",
      "For happy:      \t r = 0.58, p = 5.35e-13\n",
      "For wobbly:      \t r = 0.48, p = 9.44e-09\n",
      "For surprising:      \t r = 0.49, p = 4.2e-09\n",
      "For typical:      \t r = -0.43, p = 4.91e-07\n",
      "For predictable:      \t r = -0.48, p = 9.25e-09\n"
     ]
    }
   ],
   "source": [
    "print('Correlations:')\n",
    "for i in ['happymean', 'wobblymean', 'surprisingmean', 'typicalmean', 'predictablemean']:\n",
    "    r, p = stats.pearsonr(df_Stimuli['funnymean'], df_Stimuli[i])\n",
    "    print('For {}:      \\t r = {:.2}, p = {:.3}'.format(i[:-4], r, p))"
   ]
  },
  {
   "cell_type": "markdown",
   "metadata": {},
   "source": [
    "##### Next, we can see, that the last three ratings all share a common theme. They are *violations* of some sort. Let's see, if they also share a connection\n"
   ]
  },
  {
   "cell_type": "code",
   "execution_count": 10,
   "metadata": {},
   "outputs": [
    {
     "data": {
      "text/html": [
       "<div>\n",
       "<style scoped>\n",
       "    .dataframe tbody tr th:only-of-type {\n",
       "        vertical-align: middle;\n",
       "    }\n",
       "\n",
       "    .dataframe tbody tr th {\n",
       "        vertical-align: top;\n",
       "    }\n",
       "\n",
       "    .dataframe thead th {\n",
       "        text-align: right;\n",
       "    }\n",
       "</style>\n",
       "<table border=\"1\" class=\"dataframe\">\n",
       "  <thead>\n",
       "    <tr style=\"text-align: right;\">\n",
       "      <th></th>\n",
       "      <th>surprisingmean</th>\n",
       "      <th>typicalmean</th>\n",
       "      <th>predictablemean</th>\n",
       "    </tr>\n",
       "  </thead>\n",
       "  <tbody>\n",
       "    <tr>\n",
       "      <th>surprisingmean</th>\n",
       "      <td>1.000000</td>\n",
       "      <td>-0.790474</td>\n",
       "      <td>-0.847947</td>\n",
       "    </tr>\n",
       "    <tr>\n",
       "      <th>typicalmean</th>\n",
       "      <td>-0.790474</td>\n",
       "      <td>1.000000</td>\n",
       "      <td>0.839728</td>\n",
       "    </tr>\n",
       "    <tr>\n",
       "      <th>predictablemean</th>\n",
       "      <td>-0.847947</td>\n",
       "      <td>0.839728</td>\n",
       "      <td>1.000000</td>\n",
       "    </tr>\n",
       "  </tbody>\n",
       "</table>\n",
       "</div>"
      ],
      "text/plain": [
       "                 surprisingmean  typicalmean  predictablemean\n",
       "surprisingmean         1.000000    -0.790474        -0.847947\n",
       "typicalmean           -0.790474     1.000000         0.839728\n",
       "predictablemean       -0.847947     0.839728         1.000000"
      ]
     },
     "execution_count": 10,
     "metadata": {},
     "output_type": "execute_result"
    }
   ],
   "source": [
    "df_Stimuli[['surprisingmean', 'typicalmean','predictablemean']].corr()"
   ]
  },
  {
   "cell_type": "markdown",
   "metadata": {},
   "source": [
    "##### They are highly correlated. Therefore we reduct them to one common *violation factor*."
   ]
  },
  {
   "cell_type": "code",
   "execution_count": 11,
   "metadata": {},
   "outputs": [
    {
     "name": "stdout",
     "output_type": "stream",
     "text": [
      "Correlations with the new factor called \"not_violation\":\n"
     ]
    },
    {
     "data": {
      "text/plain": [
       "not_violation      1.000000\n",
       "surprisingmean    -0.919890\n",
       "predictablemean    0.942692\n",
       "typicalmean        0.952824\n",
       "Name: not_violation, dtype: float64"
      ]
     },
     "execution_count": 11,
     "metadata": {},
     "output_type": "execute_result"
    }
   ],
   "source": [
    "df_pca = df_Stimuli.copy()\n",
    "\n",
    "#The modul automatically centers the data, we don't need to scale it since the scale is already between 0 and 1\n",
    "\n",
    "df_pca['not_violation'] = PCA(n_components=1, random_state=1).fit_transform(df_pca[['surprisingmean', 'predictablemean', 'typicalmean']])\n",
    "\n",
    "print('Correlations with the new factor called \"not_violation\":')\n",
    "df_pca[['not_violation', 'surprisingmean', 'predictablemean', 'typicalmean']].corr()['not_violation']"
   ]
  },
  {
   "cell_type": "markdown",
   "metadata": {},
   "source": [
    "##### We can see, that the new factor represents the ratings quite well. Unfortunatly, he is inverted and exceeds the 0 to 1 range. \n",
    "##### We fix this using the MinMaxScaler and inversion:"
   ]
  },
  {
   "cell_type": "code",
   "execution_count": 12,
   "metadata": {},
   "outputs": [
    {
     "name": "stdout",
     "output_type": "stream",
     "text": [
      "Correlations with the inverted factor called \"violation\":\n"
     ]
    },
    {
     "data": {
      "text/plain": [
       "violation          1.000000\n",
       "surprisingmean     0.919890\n",
       "predictablemean   -0.942692\n",
       "typicalmean       -0.952824\n",
       "Name: violation, dtype: float64"
      ]
     },
     "execution_count": 12,
     "metadata": {},
     "output_type": "execute_result"
    }
   ],
   "source": [
    "df_pca['violation'] = MinMaxScaler(feature_range=(0, 1)).fit_transform(df_pca[['not_violation']])\n",
    "df_pca['violation'] = 1 - df_pca['violation']\n",
    "\n",
    "print('Correlations with the inverted factor called \"violation\":')\n",
    "df_pca[['violation', 'surprisingmean', 'predictablemean', 'typicalmean']].corr()['violation']\n",
    "\n",
    "\n"
   ]
  },
  {
   "cell_type": "markdown",
   "metadata": {},
   "source": [
    "##### Now, we have a violation factor to work with. "
   ]
  },
  {
   "cell_type": "markdown",
   "metadata": {},
   "source": [
    "##### Then, we use stepwise regression to see, which predictors to include in our model"
   ]
  },
  {
   "cell_type": "code",
   "execution_count": 13,
   "metadata": {},
   "outputs": [
    {
     "name": "stdout",
     "output_type": "stream",
     "text": [
      "Add  happymean                      with p-value 5.34838e-13\n",
      "Add  violation                      with p-value 1.0127e-15\n",
      "resulting features:\n",
      "['happymean', 'violation']\n"
     ]
    },
    {
     "name": "stderr",
     "output_type": "stream",
     "text": [
      "/Library/Frameworks/Python.framework/Versions/3.7/lib/python3.7/site-packages/numpy/core/fromnumeric.py:2495: FutureWarning: Method .ptp is deprecated and will be removed in a future version. Use numpy.ptp instead.\n",
      "  return ptp(axis=axis, out=out, **kwargs)\n",
      "/Library/Frameworks/Python.framework/Versions/3.7/lib/python3.7/site-packages/ipykernel_launcher.py:30: FutureWarning: \n",
      "The current behaviour of 'Series.argmin' is deprecated, use 'idxmin'\n",
      "instead.\n",
      "The behavior of 'argmin' will be corrected to return the positional\n",
      "minimum in the future. For now, use 'series.values.argmin' or\n",
      "'np.argmin(np.array(values))' to get the position of the minimum\n",
      "row.\n"
     ]
    }
   ],
   "source": [
    "def stepwise_selection(X, y, \n",
    "                       initial_list=[], \n",
    "                       threshold_in=0.01, \n",
    "                       threshold_out = 0.05, \n",
    "                       verbose=True):\n",
    "    \"\"\" Perform a forward-backward feature selection \n",
    "    based on p-value from statsmodels.api.OLS\n",
    "    Arguments:\n",
    "        X - pandas.DataFrame with candidate features\n",
    "        y - list-like with the target\n",
    "        initial_list - list of features to start with (column names of X)\n",
    "        threshold_in - include a feature if its p-value < threshold_in\n",
    "        threshold_out - exclude a feature if its p-value > threshold_out\n",
    "        verbose - whether to print the sequence of inclusions and exclusions\n",
    "    Returns: list of selected features \n",
    "    Always set threshold_in < threshold_out to avoid infinite looping.\n",
    "    See https://en.wikipedia.org/wiki/Stepwise_regression for the details\n",
    "    \"\"\"\n",
    "    included = list(initial_list)\n",
    "    while True:\n",
    "        changed=False\n",
    "        # forward step\n",
    "        excluded = list(set(X.columns)-set(included))\n",
    "        new_pval = pd.Series(index=excluded)\n",
    "        for new_column in excluded:\n",
    "            model = sm.OLS(y, sm.add_constant(pd.DataFrame(X[included+[new_column]]))).fit()\n",
    "            new_pval[new_column] = model.pvalues[new_column]\n",
    "        best_pval = new_pval.min()\n",
    "        if best_pval < threshold_in:\n",
    "            best_feature = new_pval.argmin()\n",
    "            included.append(best_feature)\n",
    "            changed=True\n",
    "            if verbose:\n",
    "                print('Add  {:30} with p-value {:.6}'.format(best_feature, best_pval))\n",
    "\n",
    "        # backward step\n",
    "        model = sm.OLS(y, sm.add_constant(pd.DataFrame(X[included]))).fit()\n",
    "        # use all coefs except intercept\n",
    "        pvalues = model.pvalues.iloc[1:]\n",
    "        worst_pval = pvalues.max() # null if pvalues is empty\n",
    "        if worst_pval > threshold_out:\n",
    "            changed=True\n",
    "            worst_feature = pvalues.argmax()\n",
    "            included.remove(worst_feature)\n",
    "            if verbose:\n",
    "                print('Drop {:30} with p-value {:.6}'.format(worst_feature, worst_pval))\n",
    "        if not changed:\n",
    "            break\n",
    "    return included\n",
    "\n",
    "X = df_pca.copy()\n",
    "for i in X.columns:\n",
    "    if 'std' in i:\n",
    "        X.drop(i, axis=1, inplace=True)\n",
    "X = X.drop(['funnymean', 'not_violation'], axis=1)\n",
    "y = df_pca.funnymean\n",
    "\n",
    "result = stepwise_selection(X, y)\n",
    "\n",
    "print('resulting features:')\n",
    "print(result)\n",
    "\n"
   ]
  },
  {
   "cell_type": "markdown",
   "metadata": {},
   "source": [
    "##### This finding is strikingly similar to the benign-violation theory. This theory assumes that, for a thing to be funny, it both must be a violation and be perceived as harmless (benign).   \n",
    "\n",
    "#####  You can learn more about that theory by visiting [this link](https://papers.ssrn.com/sol3/papers.cfm?abstract_id=2559414).\n",
    "\n",
    "#####  The main difference in our finding, lies in the fact that we didn't ask for the perception of the observer, but asked for the happiness of the object. It should be noted, that these to ratings probably share a connection, but are different. The benign factor also accounts for Schadenfreude, where the observer interprets the situation as harmless (for himself), while the happiness of the object does not. Often, however, the observer is influenced by the happiness of the object. Therefore, we expect funny scenes to include more often happy objects, than not. "
   ]
  },
  {
   "cell_type": "markdown",
   "metadata": {},
   "source": [
    "#####  Note also, that the `wobbly` rating disappeared. "
   ]
  },
  {
   "cell_type": "code",
   "execution_count": 14,
   "metadata": {},
   "outputs": [
    {
     "data": {
      "text/plain": [
       "funnymean          0.480531\n",
       "happymean          0.454638\n",
       "surprisingmean     0.146974\n",
       "abruptmean        -0.026530\n",
       "typicalmean       -0.289973\n",
       "predictablemean   -0.181157\n",
       "wobblymean         1.000000\n",
       "droopymean         0.120706\n",
       "Name: wobblymean, dtype: float64"
      ]
     },
     "execution_count": 14,
     "metadata": {},
     "output_type": "execute_result"
    }
   ],
   "source": [
    "df_pca.iloc[:,8:-3:2].corr()['wobblymean']"
   ]
  },
  {
   "cell_type": "markdown",
   "metadata": {},
   "source": [
    "##### This is probably due to the correlation with happiness. "
   ]
  },
  {
   "cell_type": "markdown",
   "metadata": {},
   "source": [
    "##### Let's look at our remainding predictors, starting with the violation factor"
   ]
  },
  {
   "cell_type": "code",
   "execution_count": 15,
   "metadata": {},
   "outputs": [
    {
     "data": {
      "image/png": "[encoded data removed]",
      "text/plain": [
       "<Figure size 648x432 with 1 Axes>"
      ]
     },
     "metadata": {
      "needs_background": "light"
     },
     "output_type": "display_data"
    },
    {
     "name": "stdout",
     "output_type": "stream",
     "text": [
      "                            OLS Regression Results                            \n",
      "==============================================================================\n",
      "Dep. Variable:              funnymean   R-squared:                       0.239\n",
      "Model:                            OLS   Adj. R-squared:                  0.233\n",
      "Method:                 Least Squares   F-statistic:                     39.58\n",
      "Date:                Tue, 05 May 2020   Prob (F-statistic):           4.75e-09\n",
      "Time:                        08:59:11   Log-Likelihood:                 88.206\n",
      "No. Observations:                 128   AIC:                            -172.4\n",
      "Df Residuals:                     126   BIC:                            -166.7\n",
      "Df Model:                           1                                         \n",
      "Covariance Type:            nonrobust                                         \n",
      "==============================================================================\n",
      "                 coef    std err          t      P>|t|      [0.025      0.975]\n",
      "------------------------------------------------------------------------------\n",
      "violation      0.3035      0.048      6.291      0.000       0.208       0.399\n",
      "intercept      0.3114      0.027     11.355      0.000       0.257       0.366\n",
      "==============================================================================\n",
      "Omnibus:                        3.343   Durbin-Watson:                   1.830\n",
      "Prob(Omnibus):                  0.188   Jarque-Bera (JB):                3.115\n",
      "Skew:                           0.382   Prob(JB):                        0.211\n",
      "Kurtosis:                       3.005   Cond. No.                         5.72\n",
      "==============================================================================\n",
      "\n",
      "Warnings:\n",
      "[1] Standard Errors assume that the covariance matrix of the errors is correctly specified.\n"
     ]
    }
   ],
   "source": [
    "#Construct the plot\n",
    "fig, ax = plt.subplots(figsize = (9,6))\n",
    "\n",
    "sns.regplot(x = 'violation', y = 'funnymean', ci = None, data = df_pca, line_kws = {'color': 'k', 'alpha': 0.9,'lw': 2})\n",
    "ax.set_ylim(0,1)\n",
    "ax.set_xlim(-0.01,1.01)\n",
    "plt.vlines(x=0.5, ymin=0, ymax=1, color='black', linestyle='--', linewidth=0.5, alpha = 0.3)\n",
    "plt.hlines(y=0.5, xmin=0, xmax=1, color='black', linestyle='--', linewidth=0.5, alpha = 0.3)\n",
    "[ax.spines[loc].set_visible(False) for loc in ['top', 'right']]\n",
    "ax.set_ylabel('Funniness Rating', fontsize = 15, fontweight='black', color = '#333F4B')\n",
    "ax.set_xlabel(' Violation Rating', fontsize = 15, fontweight='black', color = '#333F4B')\n",
    "#plt.savefig('Fun_sup_corr.svg', dpi = 1200, format = 'svg')\n",
    "plt.show()\n",
    "\n",
    "#Calculate the linear Regression\n",
    "def linReg(df, y, X):\n",
    "    \"\"\"\n",
    "    Takes a dataframe, the string of the outcome and the string of the predictor\n",
    "    Outputs a linear Regression\n",
    "    \"\"\"\n",
    "    df['intercept'] = 1\n",
    "    lm = sm.OLS(df[y], df[[X] + ['intercept']])\n",
    "    slr_results = lm.fit()\n",
    "    print(slr_results.summary())\n",
    "    \n",
    "linReg(df_pca, 'funnymean', 'violation')"
   ]
  },
  {
   "cell_type": "markdown",
   "metadata": {},
   "source": [
    "##### We can see, that the with increasing violation, more and more scenes are rated as funny. Due to our scaling, we consider a rating of 0.5 and higher as 'funny'. We can further see, that most of the funny Stimuli have a violation rating of 0.5 or higher.\n",
    "\n",
    "##### Let's look at the happy ratings next"
   ]
  },
  {
   "cell_type": "code",
   "execution_count": 16,
   "metadata": {},
   "outputs": [
    {
     "data": {
      "image/png": "[encoded data removed]",
      "text/plain": [
       "<Figure size 648x432 with 1 Axes>"
      ]
     },
     "metadata": {
      "needs_background": "light"
     },
     "output_type": "display_data"
    },
    {
     "name": "stdout",
     "output_type": "stream",
     "text": [
      "                            OLS Regression Results                            \n",
      "==============================================================================\n",
      "Dep. Variable:              funnymean   R-squared:                       0.340\n",
      "Model:                            OLS   Adj. R-squared:                  0.334\n",
      "Method:                 Least Squares   F-statistic:                     64.78\n",
      "Date:                Tue, 05 May 2020   Prob (F-statistic):           5.35e-13\n",
      "Time:                        08:59:11   Log-Likelihood:                 97.273\n",
      "No. Observations:                 128   AIC:                            -190.5\n",
      "Df Residuals:                     126   BIC:                            -184.8\n",
      "Df Model:                           1                                         \n",
      "Covariance Type:            nonrobust                                         \n",
      "==============================================================================\n",
      "                 coef    std err          t      P>|t|      [0.025      0.975]\n",
      "------------------------------------------------------------------------------\n",
      "happymean      0.5121      0.064      8.049      0.000       0.386       0.638\n",
      "intercept      0.2503      0.029      8.607      0.000       0.193       0.308\n",
      "==============================================================================\n",
      "Omnibus:                        2.360   Durbin-Watson:                   2.007\n",
      "Prob(Omnibus):                  0.307   Jarque-Bera (JB):                2.215\n",
      "Skew:                          -0.240   Prob(JB):                        0.330\n",
      "Kurtosis:                       2.570   Cond. No.                         7.50\n",
      "==============================================================================\n",
      "\n",
      "Warnings:\n",
      "[1] Standard Errors assume that the covariance matrix of the errors is correctly specified.\n"
     ]
    }
   ],
   "source": [
    "fig, ax = plt.subplots(figsize = (9,6))\n",
    "\n",
    "\n",
    "sns.regplot(x = 'happymean', y = 'funnymean', ci = None, data = df_pca, line_kws = {'color': 'k', 'alpha': 0.9,'lw': 2})\n",
    "ax.set_ylim(0,1)\n",
    "ax.set_xlim(0,1)\n",
    "plt.vlines(x=0.5, ymin=0, ymax=1, color='black', linestyle='--', linewidth=0.5, alpha = 0.3)\n",
    "plt.hlines(y=0.5, xmin=0, xmax=1, color='black', linestyle='--', linewidth=0.5, alpha = 0.3)\n",
    "[ax.spines[loc].set_visible(False) for loc in ['top', 'right']]\n",
    "ax.set_ylabel('Funniness Rating', fontsize = 15, fontweight='black', color = '#333F4B')\n",
    "ax.set_xlabel('Happiness Rating', fontsize = 15, fontweight='black', color = '#333F4B')\n",
    "#plt.savefig('Fun_hap_corr.svg', dpi = 1200, format = 'svg')\n",
    "plt.show()\n",
    "\n",
    "#Fit a linear Regression\n",
    "linReg(df_pca, 'funnymean', 'happymean')\n"
   ]
  },
  {
   "cell_type": "markdown",
   "metadata": {},
   "source": [
    "##### Again we see, that with rising happy rating, the mean funniness also rises. This time, however, we can see, that quite a few unhappy scenes, are rated as funny. We suspected them to belong to the Schadenfreude category. "
   ]
  },
  {
   "cell_type": "markdown",
   "metadata": {},
   "source": [
    "##### Now to the last part of this analysis. We intended to find relevant properties, a funny scene should possess. Our analysis yielded two predictors. The scene has to be a violation of some sort and should concern a happy object. Now, we want to see how good our ratings are in predicting if a scene is more likely to be perceived as funny than not. Therefore, we first turn the funniness ratings into binary form. As a cut-off we choose 0.5. \n",
    "\n",
    "##### Then we fit our model. Due to the binary coding, we choose a logistic regression. This has the advantage, that we can easily visualize and interpret the finding."
   ]
  },
  {
   "cell_type": "code",
   "execution_count": 17,
   "metadata": {},
   "outputs": [
    {
     "data": {
      "image/png": "[encoded data removed]",
      "text/plain": [
       "<Figure size 648x432 with 1 Axes>"
      ]
     },
     "metadata": {
      "needs_background": "light"
     },
     "output_type": "display_data"
    },
    {
     "name": "stdout",
     "output_type": "stream",
     "text": [
      "Cross_val_score: 0.8375816993464053\n",
      "Test Score: 0.7906976744186046\n"
     ]
    }
   ],
   "source": [
    "#Turn the funny ratings into binary\n",
    "def fun(row):\n",
    "    if (row['funnymean'] >= 0.5):\n",
    "        return 1\n",
    "    if (row['funnymean'] < 0.5):\n",
    "        return 0\n",
    "\n",
    "df_pca['fun'] = df_pca.apply(fun, axis = 1)\n",
    "\n",
    "#prepare the factors\n",
    "bvt = df_pca.copy()\n",
    "X = bvt[['happymean', 'violation']]\n",
    "y = bvt.fun\n",
    "\n",
    "#Split the data\n",
    "X_train, X_test, y_train, y_test = train_test_split(X, y, test_size=0.33, random_state=3)\n",
    "\n",
    "#Fit the model:\n",
    "logreg = LogisticRegression(C = 30, multi_class = 'multinomial', solver = 'lbfgs')\n",
    "logreg.fit(X_train, y_train)\n",
    "\n",
    "cross = cross_val_score(logreg, X_train, y_train, cv=5)\n",
    "\n",
    "\n",
    "\n",
    "\n",
    "#For Visualization we use the whole data.\n",
    "logreg2 = LogisticRegression(C = 30, multi_class = 'multinomial', solver = 'lbfgs')\n",
    "logreg2.fit(X, y)\n",
    "\n",
    "x_min, x_max = X['happymean'].min() - .5, X['happymean'].max() + .5\n",
    "y_min, y_max = X['violation'].min() - .5, X['violation'].max() + .5\n",
    "h = .02  # step size in the mesh\n",
    "xx, yy = np.meshgrid(np.arange(x_min, x_max, h), np.arange(y_min, y_max, h))\n",
    "Z = logreg2.predict(np.c_[xx.ravel(), yy.ravel()])\n",
    "\n",
    "# Put the result into a color plot\n",
    "Z = Z.reshape(xx.shape)\n",
    "fig, ax = plt.subplots(figsize = (9,6))\n",
    "ax.contourf(xx, yy, Z, cmap = 'Set1_r', alpha = 0.1)\n",
    "\n",
    "# Plot also the training points\n",
    "sns.scatterplot(x = bvt[(bvt['fun'] == 1)]['happymean'], y = bvt[(bvt['fun'] == 1)]['violation'],\n",
    "                marker = 'X',\n",
    "                label = 'Funny',\n",
    "                color = 'red', \n",
    "                alpha = 0.7\n",
    "               )\n",
    "\n",
    "sns.scatterplot(x = bvt[(bvt['fun'] == 0)]['happymean'], y = bvt[(bvt['fun'] == 0)]['violation'], \n",
    "                marker = 'o', \n",
    "                label = 'Not Funny', \n",
    "                color = 'grey', \n",
    "                alpha = 0.5\n",
    "               )\n",
    "\n",
    "#Improve the appearance\n",
    "plt.xlim(0, 1.01)\n",
    "plt.ylim(-0.01, 1.01)\n",
    "[ax.spines[loc].set_visible(False) for loc in ['top', 'right']]\n",
    "plt.vlines(x=0.5, ymin=0, ymax=1, color='black', linestyle='--', linewidth=0.5, alpha = 0.3)\n",
    "plt.hlines(y=0.5, xmin=0, xmax=1, color='black', linestyle='--', linewidth=0.5, alpha = 0.3)\n",
    "ax.set_ylabel('Violation Rating', fontsize = 15, fontweight='black', color = '#333F4B')\n",
    "ax.set_xlabel('Happiness Rating', fontsize = 15, fontweight='black', color = '#333F4B')\n",
    "#plt.savefig('Log.svg', dpi = 1200, format = 'svg')\n",
    "plt.show()\n",
    "\n",
    "\n",
    "print('Cross_val_score:', cross.mean())\n",
    "print('Test Score:', logreg.score(X_test, y_test))"
   ]
  },
  {
   "cell_type": "markdown",
   "metadata": {},
   "source": [
    "##### We can see, that our model could correctly predict 79% of the test scenes. \n",
    "##### Before, we used linear regression on our predictors. To see, if the new model is a better fit, we have to fit logistic regressions to our raw predictors as well. Then we can compare.\n",
    "\n",
    "Note: We used crossvalidation on our trainingsset to tweak our model. Then, we reported the testset. For the visualization, we used the whole data. "
   ]
  },
  {
   "cell_type": "code",
   "execution_count": 21,
   "metadata": {},
   "outputs": [
    {
     "name": "stdout",
     "output_type": "stream",
     "text": [
      "Just violation: 0.744\n",
      "Just happy: 0.581\n",
      "Combined model: 0.791\n"
     ]
    }
   ],
   "source": [
    "#Fit a logistic regression to the violation ratings\n",
    "logreg_viol = LogisticRegression(C=20, solver='lbfgs')\n",
    "logreg_viol.fit(X_train[['violation']], y_train)\n",
    "\n",
    "#Use cross validation to tweak it\n",
    "cross = cross_val_score(logreg_viol, X_train[['violation']], y_train, cv=5)\n",
    "cross.mean()\n",
    "\n",
    "\n",
    "\n",
    "#Fit a logistic regression to the happiness ratings\n",
    "logreg_hap = LogisticRegression(C=5, solver='lbfgs')\n",
    "logreg_hap.fit(X_train[['happymean']], y_train)\n",
    "\n",
    "#Use cross validation to tweak it\n",
    "cross = cross_val_score(logreg_hap, X_train[['happymean']], y_train, cv=5)\n",
    "cross.mean()\n",
    "\n",
    "\n",
    "\n",
    "#Finally compare the models:\n",
    "print('Just violation: {:0.3}'.format(logreg_viol.score(X_test[['violation']], y_test)))\n",
    "print('Just happy: {:0.3}'.format(logreg_hap.score(X_test[['happymean']], y_test)))\n",
    "print('Combined model: {:0.3}'.format(logreg.score(X_test, y_test)))"
   ]
  },
  {
   "cell_type": "markdown",
   "metadata": {},
   "source": [
    "##### We can see, that the new model provides additional information and a better fit for our data. "
   ]
  },
  {
   "cell_type": "markdown",
   "metadata": {},
   "source": [
    "#### With this, we conclude this notebook. Thank you for you time and have a good day!"
   ]
  }
 ],
 "metadata": {
  "kernelspec": {
   "display_name": "Python 3",
   "language": "python",
   "name": "python3"
  },
  "language_info": {
   "codemirror_mode": {
    "name": "ipython",
    "version": 3
   },
   "file_extension": ".py",
   "mimetype": "text/x-python",
   "name": "python",
   "nbconvert_exporter": "python",
   "pygments_lexer": "ipython3",
   "version": "3.7.4"
  }
 },
 "nbformat": 4,
 "nbformat_minor": 4
}
